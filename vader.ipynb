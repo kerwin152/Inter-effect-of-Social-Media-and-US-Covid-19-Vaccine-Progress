{
 "cells": [
  {
   "cell_type": "code",
   "execution_count": 19,
   "metadata": {},
   "outputs": [],
   "source": [
    "from vaderSentiment.vaderSentiment import SentimentIntensityAnalyzer\n",
    "import pandas as pd\n",
    "import matplotlib.pyplot as plt\n",
    "plt.rc('figure',figsize=(17,13))"
   ]
  },
  {
   "cell_type": "code",
   "execution_count": 20,
   "metadata": {},
   "outputs": [
    {
     "data": {
      "text/html": [
       "<div>\n",
       "<style scoped>\n",
       "    .dataframe tbody tr th:only-of-type {\n",
       "        vertical-align: middle;\n",
       "    }\n",
       "\n",
       "    .dataframe tbody tr th {\n",
       "        vertical-align: top;\n",
       "    }\n",
       "\n",
       "    .dataframe thead th {\n",
       "        text-align: right;\n",
       "    }\n",
       "</style>\n",
       "<table border=\"1\" class=\"dataframe\">\n",
       "  <thead>\n",
       "    <tr style=\"text-align: right;\">\n",
       "      <th></th>\n",
       "      <th>tweet_id</th>\n",
       "      <th>label</th>\n",
       "      <th>tweet_text</th>\n",
       "    </tr>\n",
       "  </thead>\n",
       "  <tbody>\n",
       "    <tr>\n",
       "      <th>0</th>\n",
       "      <td>1.360342e+18</td>\n",
       "      <td>1</td>\n",
       "      <td>4,000 a day dying from the so called Covid-19 ...</td>\n",
       "    </tr>\n",
       "    <tr>\n",
       "      <th>1</th>\n",
       "      <td>1.382896e+18</td>\n",
       "      <td>2</td>\n",
       "      <td>Pranam message for today manifested in Dhyan b...</td>\n",
       "    </tr>\n",
       "    <tr>\n",
       "      <th>2</th>\n",
       "      <td>1.375673e+18</td>\n",
       "      <td>2</td>\n",
       "      <td>Hyderabad-based ?@BharatBiotech? has sought fu...</td>\n",
       "    </tr>\n",
       "    <tr>\n",
       "      <th>3</th>\n",
       "      <td>1.381311e+18</td>\n",
       "      <td>1</td>\n",
       "      <td>Confirmation that Chinese #vaccines \"dont hav...</td>\n",
       "    </tr>\n",
       "    <tr>\n",
       "      <th>4</th>\n",
       "      <td>1.362166e+18</td>\n",
       "      <td>3</td>\n",
       "      <td>Lab studies suggest #Pfizer, #Moderna vaccines...</td>\n",
       "    </tr>\n",
       "    <tr>\n",
       "      <th>...</th>\n",
       "      <td>...</td>\n",
       "      <td>...</td>\n",
       "      <td>...</td>\n",
       "    </tr>\n",
       "    <tr>\n",
       "      <th>5995</th>\n",
       "      <td>1.370975e+18</td>\n",
       "      <td>2</td>\n",
       "      <td>@Swamy39 Dr. @Swamy39 jee :\\n\\nMany people lik...</td>\n",
       "    </tr>\n",
       "    <tr>\n",
       "      <th>5996</th>\n",
       "      <td>1.379827e+18</td>\n",
       "      <td>3</td>\n",
       "      <td>So happy to be fully vaccinated against COVID-...</td>\n",
       "    </tr>\n",
       "    <tr>\n",
       "      <th>5997</th>\n",
       "      <td>1.384789e+18</td>\n",
       "      <td>2</td>\n",
       "      <td>Serum Institute of India announces cost of Cov...</td>\n",
       "    </tr>\n",
       "    <tr>\n",
       "      <th>5998</th>\n",
       "      <td>1.382355e+18</td>\n",
       "      <td>1</td>\n",
       "      <td>@___batshitcrazy @BarrowfordHead @Bectully I h...</td>\n",
       "    </tr>\n",
       "    <tr>\n",
       "      <th>5999</th>\n",
       "      <td>1.380051e+18</td>\n",
       "      <td>2</td>\n",
       "      <td>The smart sympathy attends into the oblong not...</td>\n",
       "    </tr>\n",
       "  </tbody>\n",
       "</table>\n",
       "<p>6000 rows × 3 columns</p>\n",
       "</div>"
      ],
      "text/plain": [
       "          tweet_id  label                                         tweet_text\n",
       "0     1.360342e+18      1  4,000 a day dying from the so called Covid-19 ...\n",
       "1     1.382896e+18      2  Pranam message for today manifested in Dhyan b...\n",
       "2     1.375673e+18      2  Hyderabad-based ?@BharatBiotech? has sought fu...\n",
       "3     1.381311e+18      1  Confirmation that Chinese #vaccines \"dont hav...\n",
       "4     1.362166e+18      3  Lab studies suggest #Pfizer, #Moderna vaccines...\n",
       "...            ...    ...                                                ...\n",
       "5995  1.370975e+18      2  @Swamy39 Dr. @Swamy39 jee :\\n\\nMany people lik...\n",
       "5996  1.379827e+18      3  So happy to be fully vaccinated against COVID-...\n",
       "5997  1.384789e+18      2  Serum Institute of India announces cost of Cov...\n",
       "5998  1.382355e+18      1  @___batshitcrazy @BarrowfordHead @Bectully I h...\n",
       "5999  1.380051e+18      2  The smart sympathy attends into the oblong not...\n",
       "\n",
       "[6000 rows x 3 columns]"
      ]
     },
     "execution_count": 20,
     "metadata": {},
     "output_type": "execute_result"
    }
   ],
   "source": [
    "labeled_sentiment = pd.read_csv(\"covid-19_vaccine_tweets_with_sentiment.csv\",encoding='unicode_escape')\n",
    "labeled_sentiment"
   ]
  },
  {
   "cell_type": "code",
   "execution_count": 21,
   "metadata": {},
   "outputs": [],
   "source": [
    "def sentiment_scores(sentence):\n",
    "\t#Negative sentiment is labeled as 1, neutral as 2, and positive as 3\n",
    "\tans = -1\n",
    "\n",
    "\t# Create a SentimentIntensityAnalyzer object.\n",
    "\tsid_obj = SentimentIntensityAnalyzer()\n",
    "\n",
    "\t# polarity_scores method of SentimentIntensityAnalyzer\n",
    "\t# object gives a sentiment dictionary.\n",
    "\t# which contains pos, neg, neu, and compound scores.\n",
    "\tsentiment_dict = sid_obj.polarity_scores(sentence)\n",
    "\t\n",
    "\t# print(\"Overall sentiment dictionary is : \", sentiment_dict)\n",
    "\t# print(\"sentence was rated as \", sentiment_dict['neg']*100, \"% Negative\")\n",
    "\t# print(\"sentence was rated as \", sentiment_dict['neu']*100, \"% Neutral\")\n",
    "\t# print(\"sentence was rated as \", sentiment_dict['pos']*100, \"% Positive\")\n",
    "\n",
    "\t# print(\"Sentence Overall Rated As\", end = \" \")\n",
    "\n",
    "\t# decide sentiment as positive, negative and neutral\n",
    "\tif sentiment_dict['compound'] >= 0.45 :#0.45\n",
    "\t\t# print(\"Positive\")\n",
    "\t\tans = 3\n",
    "\n",
    "\telif sentiment_dict['compound'] <= - 0.43 :#0.43\n",
    "\t\t# print(\"Negative\")\n",
    "\t\tans = 1\n",
    "\n",
    "\telse :\n",
    "\t\t# print(\"Neutral\")\n",
    "\t\tans = 2\n",
    "\t\n",
    "\treturn ans\n"
   ]
  },
  {
   "cell_type": "code",
   "execution_count": 22,
   "metadata": {},
   "outputs": [],
   "source": [
    "after_vader = list()\n",
    "for tweet_text in labeled_sentiment['tweet_text']:\n",
    "    temp = sentiment_scores(tweet_text)\n",
    "    after_vader.append(temp)\n",
    "# after_vader"
   ]
  },
  {
   "cell_type": "code",
   "execution_count": 23,
   "metadata": {},
   "outputs": [
    {
     "name": "stdout",
     "output_type": "stream",
     "text": [
      "negtive sentiments count758\n",
      "neural sentiments count3562\n",
      "positive sentiments count1680\n"
     ]
    }
   ],
   "source": [
    "neg_count = 0\n",
    "neu_count = 0\n",
    "pos_count = 0\n",
    "for i in after_vader:\n",
    "    if i == 1:\n",
    "        neg_count += 1\n",
    "    elif i == 2:\n",
    "        neu_count += 1\n",
    "    elif i == 3:\n",
    "        pos_count += 1\n",
    "print(\"negtive sentiments count: \"+str(neg_count))\n",
    "print(\"neural sentiments count: \"+str(neu_count))\n",
    "print(\"positive sentiments count: \"+str(pos_count))"
   ]
  },
  {
   "cell_type": "code",
   "execution_count": 24,
   "metadata": {},
   "outputs": [
    {
     "name": "stdout",
     "output_type": "stream",
     "text": [
      "2554\n",
      "1 to 2:216\n",
      "1 to 3:54\n",
      "2 to 3:761\n",
      "2 to 1:488\n",
      "3 to 1:120\n",
      "3 to 2:915\n",
      "57.43333333333333\n"
     ]
    }
   ],
   "source": [
    "text_label = list()\n",
    "for label in labeled_sentiment['label']:\n",
    "    text_label.append(label)\n",
    "rightCount = 0\n",
    "wrongCount = 0\n",
    "ansDic = list()\n",
    "for i in range(len(text_label)):\n",
    "    if text_label[i] == after_vader[i]:\n",
    "        rightCount += 1\n",
    "    else:\n",
    "        ansDic.append([text_label[i],after_vader[i]])\n",
    "        wrongCount += 1\n",
    "accuracy = 100*rightCount/len(text_label)\n",
    "print(len(ansDic))\n",
    "oneTwo = 0\n",
    "oneThree = 0\n",
    "twoThree = 0\n",
    "twoOne = 0\n",
    "threeOne = 0\n",
    "threeTwo = 0\n",
    "for i in ansDic:\n",
    "    if i[0]==2 and i[1]==3:\n",
    "        twoThree += 1\n",
    "    elif i[0]==2 and i[1]==1:\n",
    "        twoOne += 1\n",
    "    elif i[0]==3 and i[1]==1:\n",
    "        threeOne += 1\n",
    "    elif i[0]==3 and i[1]==2:\n",
    "        threeTwo += 1\n",
    "    elif i[0]==1 and i[1]==2:\n",
    "        oneTwo += 1\n",
    "    elif i[0]==1 and i[1]==3:\n",
    "        oneThree += 1\n",
    "print(\"1 to 2:\"+str(oneTwo))\n",
    "print(\"1 to 3:\"+str(oneThree))\n",
    "print(\"2 to 3:\"+str(twoThree))\n",
    "print(\"2 to 1:\"+str(twoOne))\n",
    "print(\"3 to 1:\"+str(threeOne))\n",
    "print(\"3 to 2:\"+str(threeTwo))\n",
    "print(accuracy)"
   ]
  },
  {
   "cell_type": "code",
   "execution_count": 25,
   "metadata": {},
   "outputs": [
    {
     "name": "stdout",
     "output_type": "stream",
     "text": [
      "6000\n",
      "0.19788918205804748\n",
      "0.6824817518248175\n",
      "0.5148809523809523\n"
     ]
    }
   ],
   "source": [
    "rightOne, rightTwo, rightThree = 0, 0, 0\n",
    "actOne, actTwo, actThree = 0, 0, 0\n",
    "print(len(labeled_sentiment['label']))\n",
    "for i in range(len(labeled_sentiment['label'])):\n",
    "    if after_vader[i]==1 and labeled_sentiment['label'][i]==1:\n",
    "        rightOne += 1\n",
    "    elif after_vader[i]==2 and labeled_sentiment['label'][i]==2:\n",
    "        rightTwo += 1\n",
    "    elif after_vader[i]==3 and labeled_sentiment['label'][i]==3:\n",
    "        rightThree += 1\n",
    "for i in range(len(labeled_sentiment['label'])):\n",
    "    if after_vader[i] == 1:\n",
    "        actOne += 1\n",
    "    elif after_vader[i] == 2:\n",
    "        actTwo += 1\n",
    "    elif after_vader[i] == 3:\n",
    "        actThree += 1\n",
    "\n",
    "print(rightOne/actOne)\n",
    "print(rightTwo/actTwo)\n",
    "print(rightThree/actThree)\n",
    "# print(actOne)\n",
    "# print(actTwo)\n",
    "# print(actThree)\n",
    "        "
   ]
  },
  {
   "cell_type": "code",
   "execution_count": 26,
   "metadata": {},
   "outputs": [
    {
     "data": {
      "image/png": "[encoded data removed]",
      "text/plain": [
       "<Figure size 1224x936 with 1 Axes>"
      ]
     },
     "metadata": {
      "needs_background": "light"
     },
     "output_type": "display_data"
    }
   ],
   "source": [
    "sentiment_list = [\"negtive\",\"neural\",\"positive\"]\n",
    "accuracy_list = [rightOne/actOne, rightTwo/actTwo, rightThree/actThree]\n",
    "plt.title('Vader accuracy for three sentiments',fontsize=19,fontweight='bold')\n",
    "plt.bar(sentiment_list, accuracy_list, color = ['red', 'green', 'blue'])\n",
    "plt.ylabel('Accuracy',fontsize=19)\n",
    "plt.xlabel('Sentiment Type',fontsize=19)\n",
    "plt.show()"
   ]
  }
 ],
 "metadata": {
  "interpreter": {
   "hash": "2370104f4e0a62de768c85e50529df3487132ca7cf394bea238081a17fa4d7a7"
  },
  "kernelspec": {
   "display_name": "Python 3.8.12 64-bit ('tf_m1': conda)",
   "language": "python",
   "name": "python3"
  },
  "language_info": {
   "codemirror_mode": {
    "name": "ipython",
    "version": 3
   },
   "file_extension": ".py",
   "mimetype": "text/x-python",
   "name": "python",
   "nbconvert_exporter": "python",
   "pygments_lexer": "ipython3",
   "version": "3.8.12"
  },
  "orig_nbformat": 4
 },
 "nbformat": 4,
 "nbformat_minor": 2
}
